{
 "cells": [
  {
   "cell_type": "code",
   "execution_count": 29,
   "id": "de9d2589",
   "metadata": {},
   "outputs": [],
   "source": [
    "import numpy as np\n",
    "import tensorflow as tf\n",
    "from tensorflow.keras.datasets import imdb\n",
    "from tensorflow.keras.preprocessing import sequence\n",
    "from tensorflow.keras.models import Sequential\n",
    "from tensorflow.keras.layers import Embedding, SimpleRNN, Dense"
   ]
  },
  {
   "cell_type": "code",
   "execution_count": 30,
   "id": "50127204",
   "metadata": {},
   "outputs": [],
   "source": [
    "word_index = imdb.get_word_index()\n",
    "# word_index\n",
    "reversed_word_index = dict([(value, key) for (key, value) in word_index.items()])"
   ]
  },
  {
   "cell_type": "code",
   "execution_count": 31,
   "id": "95a19c6d",
   "metadata": {},
   "outputs": [
    {
     "name": "stderr",
     "output_type": "stream",
     "text": [
      "WARNING:absl:Compiled the loaded model, but the compiled metrics have yet to be built. `model.compile_metrics` will be empty until you train or evaluate the model.\n"
     ]
    }
   ],
   "source": [
    "##LOAD the pretarined model\n",
    "model = tf.keras.models.load_model(\"simple_rnn_imdb.h5\")"
   ]
  },
  {
   "cell_type": "code",
   "execution_count": 32,
   "id": "d031c3d2",
   "metadata": {},
   "outputs": [
    {
     "data": {
      "text/html": [
       "<pre style=\"white-space:pre;overflow-x:auto;line-height:normal;font-family:Menlo,'DejaVu Sans Mono',consolas,'Courier New',monospace\"><span style=\"font-weight: bold\">Model: \"sequential\"</span>\n",
       "</pre>\n"
      ],
      "text/plain": [
       "\u001b[1mModel: \"sequential\"\u001b[0m\n"
      ]
     },
     "metadata": {},
     "output_type": "display_data"
    },
    {
     "data": {
      "text/html": [
       "<pre style=\"white-space:pre;overflow-x:auto;line-height:normal;font-family:Menlo,'DejaVu Sans Mono',consolas,'Courier New',monospace\">┏━━━━━━━━━━━━━━━━━━━━━━━━━━━━━━━━━┳━━━━━━━━━━━━━━━━━━━━━━━━┳━━━━━━━━━━━━━━━┓\n",
       "┃<span style=\"font-weight: bold\"> Layer (type)                    </span>┃<span style=\"font-weight: bold\"> Output Shape           </span>┃<span style=\"font-weight: bold\">       Param # </span>┃\n",
       "┡━━━━━━━━━━━━━━━━━━━━━━━━━━━━━━━━━╇━━━━━━━━━━━━━━━━━━━━━━━━╇━━━━━━━━━━━━━━━┩\n",
       "│ embedding (<span style=\"color: #0087ff; text-decoration-color: #0087ff\">Embedding</span>)           │ (<span style=\"color: #00d7ff; text-decoration-color: #00d7ff\">None</span>, <span style=\"color: #00af00; text-decoration-color: #00af00\">500</span>, <span style=\"color: #00af00; text-decoration-color: #00af00\">128</span>)       │     <span style=\"color: #00af00; text-decoration-color: #00af00\">1,280,000</span> │\n",
       "├─────────────────────────────────┼────────────────────────┼───────────────┤\n",
       "│ simple_rnn (<span style=\"color: #0087ff; text-decoration-color: #0087ff\">SimpleRNN</span>)          │ (<span style=\"color: #00d7ff; text-decoration-color: #00d7ff\">None</span>, <span style=\"color: #00af00; text-decoration-color: #00af00\">128</span>)            │        <span style=\"color: #00af00; text-decoration-color: #00af00\">32,896</span> │\n",
       "├─────────────────────────────────┼────────────────────────┼───────────────┤\n",
       "│ dense (<span style=\"color: #0087ff; text-decoration-color: #0087ff\">Dense</span>)                   │ (<span style=\"color: #00d7ff; text-decoration-color: #00d7ff\">None</span>, <span style=\"color: #00af00; text-decoration-color: #00af00\">1</span>)              │           <span style=\"color: #00af00; text-decoration-color: #00af00\">129</span> │\n",
       "└─────────────────────────────────┴────────────────────────┴───────────────┘\n",
       "</pre>\n"
      ],
      "text/plain": [
       "┏━━━━━━━━━━━━━━━━━━━━━━━━━━━━━━━━━┳━━━━━━━━━━━━━━━━━━━━━━━━┳━━━━━━━━━━━━━━━┓\n",
       "┃\u001b[1m \u001b[0m\u001b[1mLayer (type)                   \u001b[0m\u001b[1m \u001b[0m┃\u001b[1m \u001b[0m\u001b[1mOutput Shape          \u001b[0m\u001b[1m \u001b[0m┃\u001b[1m \u001b[0m\u001b[1m      Param #\u001b[0m\u001b[1m \u001b[0m┃\n",
       "┡━━━━━━━━━━━━━━━━━━━━━━━━━━━━━━━━━╇━━━━━━━━━━━━━━━━━━━━━━━━╇━━━━━━━━━━━━━━━┩\n",
       "│ embedding (\u001b[38;5;33mEmbedding\u001b[0m)           │ (\u001b[38;5;45mNone\u001b[0m, \u001b[38;5;34m500\u001b[0m, \u001b[38;5;34m128\u001b[0m)       │     \u001b[38;5;34m1,280,000\u001b[0m │\n",
       "├─────────────────────────────────┼────────────────────────┼───────────────┤\n",
       "│ simple_rnn (\u001b[38;5;33mSimpleRNN\u001b[0m)          │ (\u001b[38;5;45mNone\u001b[0m, \u001b[38;5;34m128\u001b[0m)            │        \u001b[38;5;34m32,896\u001b[0m │\n",
       "├─────────────────────────────────┼────────────────────────┼───────────────┤\n",
       "│ dense (\u001b[38;5;33mDense\u001b[0m)                   │ (\u001b[38;5;45mNone\u001b[0m, \u001b[38;5;34m1\u001b[0m)              │           \u001b[38;5;34m129\u001b[0m │\n",
       "└─────────────────────────────────┴────────────────────────┴───────────────┘\n"
      ]
     },
     "metadata": {},
     "output_type": "display_data"
    },
    {
     "data": {
      "text/html": [
       "<pre style=\"white-space:pre;overflow-x:auto;line-height:normal;font-family:Menlo,'DejaVu Sans Mono',consolas,'Courier New',monospace\"><span style=\"font-weight: bold\"> Total params: </span><span style=\"color: #00af00; text-decoration-color: #00af00\">1,313,027</span> (5.01 MB)\n",
       "</pre>\n"
      ],
      "text/plain": [
       "\u001b[1m Total params: \u001b[0m\u001b[38;5;34m1,313,027\u001b[0m (5.01 MB)\n"
      ]
     },
     "metadata": {},
     "output_type": "display_data"
    },
    {
     "data": {
      "text/html": [
       "<pre style=\"white-space:pre;overflow-x:auto;line-height:normal;font-family:Menlo,'DejaVu Sans Mono',consolas,'Courier New',monospace\"><span style=\"font-weight: bold\"> Trainable params: </span><span style=\"color: #00af00; text-decoration-color: #00af00\">1,313,025</span> (5.01 MB)\n",
       "</pre>\n"
      ],
      "text/plain": [
       "\u001b[1m Trainable params: \u001b[0m\u001b[38;5;34m1,313,025\u001b[0m (5.01 MB)\n"
      ]
     },
     "metadata": {},
     "output_type": "display_data"
    },
    {
     "data": {
      "text/html": [
       "<pre style=\"white-space:pre;overflow-x:auto;line-height:normal;font-family:Menlo,'DejaVu Sans Mono',consolas,'Courier New',monospace\"><span style=\"font-weight: bold\"> Non-trainable params: </span><span style=\"color: #00af00; text-decoration-color: #00af00\">0</span> (0.00 B)\n",
       "</pre>\n"
      ],
      "text/plain": [
       "\u001b[1m Non-trainable params: \u001b[0m\u001b[38;5;34m0\u001b[0m (0.00 B)\n"
      ]
     },
     "metadata": {},
     "output_type": "display_data"
    },
    {
     "data": {
      "text/html": [
       "<pre style=\"white-space:pre;overflow-x:auto;line-height:normal;font-family:Menlo,'DejaVu Sans Mono',consolas,'Courier New',monospace\"><span style=\"font-weight: bold\"> Optimizer params: </span><span style=\"color: #00af00; text-decoration-color: #00af00\">2</span> (12.00 B)\n",
       "</pre>\n"
      ],
      "text/plain": [
       "\u001b[1m Optimizer params: \u001b[0m\u001b[38;5;34m2\u001b[0m (12.00 B)\n"
      ]
     },
     "metadata": {},
     "output_type": "display_data"
    }
   ],
   "source": [
    "model.summary()"
   ]
  },
  {
   "cell_type": "code",
   "execution_count": 33,
   "id": "c8ca21f4",
   "metadata": {},
   "outputs": [
    {
     "data": {
      "text/plain": [
       "[array([[ 0.30028704, -0.37394217, -0.17647032, ...,  0.07175809,\n",
       "         -0.08608609, -0.29548123],\n",
       "        [ 0.08313192, -0.01041316,  0.00890499, ...,  0.0752961 ,\n",
       "         -0.00801387, -0.08932647],\n",
       "        [ 0.254801  , -0.25967535, -0.10654289, ...,  0.04372725,\n",
       "          0.16906708, -0.07585457],\n",
       "        ...,\n",
       "        [ 0.00517462, -0.01218766, -0.03011058, ..., -0.07504595,\n",
       "          0.0203284 , -0.07542541],\n",
       "        [ 0.03613271,  0.01288788, -0.10883858, ...,  0.01194451,\n",
       "         -0.01359968,  0.00416292],\n",
       "        [-0.05823655, -0.08820393, -0.02512113, ...,  0.01434886,\n",
       "          0.05932977, -0.08863021]], dtype=float32),\n",
       " array([[-0.13512912, -0.16738085, -0.11436125, ..., -0.09840532,\n",
       "         -0.21709572, -0.11342651],\n",
       "        [-0.13619038, -0.03701454,  0.0061921 , ...,  0.01174986,\n",
       "         -0.06230891,  0.13207337],\n",
       "        [-0.09216926, -0.0709397 , -0.1021767 , ..., -0.00256408,\n",
       "         -0.05510427,  0.07313261],\n",
       "        ...,\n",
       "        [ 0.00670615,  0.109152  , -0.15060444, ...,  0.09302642,\n",
       "          0.03340955, -0.1801065 ],\n",
       "        [-0.21178018,  0.11224445,  0.2562559 , ...,  0.16064677,\n",
       "         -0.03184729, -0.06597907],\n",
       "        [-0.02755332,  0.07664537,  0.03409874, ..., -0.076708  ,\n",
       "          0.1748538 , -0.03879844]], dtype=float32),\n",
       " array([[ 0.03063359, -0.13517328, -0.11457788, ..., -0.20401254,\n",
       "         -0.00693589,  0.17477871],\n",
       "        [ 0.19714707,  0.12803891, -0.07668178, ...,  0.04724027,\n",
       "         -0.03645911,  0.12429115],\n",
       "        [ 0.01112879, -0.04324054, -0.02756993, ...,  0.15273893,\n",
       "          0.06556573, -0.00026528],\n",
       "        ...,\n",
       "        [ 0.06799274,  0.04502938, -0.07839493, ..., -0.07820522,\n",
       "          0.04501724, -0.03791209],\n",
       "        [-0.03410923,  0.12678142,  0.207003  , ...,  0.02045813,\n",
       "          0.05600489,  0.06954086],\n",
       "        [ 0.19264695, -0.08723216, -0.05672287, ...,  0.03988703,\n",
       "         -0.15844186,  0.03758555]], dtype=float32),\n",
       " array([ 2.26224717e-02, -7.26765394e-02, -3.20012048e-02, -7.02037737e-02,\n",
       "        -6.95060194e-02,  3.04017812e-02,  7.73487473e-03, -1.90509576e-02,\n",
       "        -3.97715122e-02,  4.81733726e-03, -9.24540404e-03, -4.93866242e-02,\n",
       "         1.71437903e-04, -6.58261925e-02, -7.27576762e-03,  1.53796226e-02,\n",
       "        -3.36474665e-02, -8.41665566e-02, -6.00684434e-03, -4.93835807e-02,\n",
       "        -8.91830549e-02, -3.22647095e-02,  2.78256796e-02, -1.57118458e-02,\n",
       "        -2.77857832e-03,  6.34826161e-03, -2.67823655e-02,  2.08133552e-03,\n",
       "         1.13262571e-02,  8.11531246e-02,  3.28671597e-02,  2.28148885e-02,\n",
       "         2.20284481e-02, -4.52039391e-02, -8.55323598e-02, -6.59089833e-02,\n",
       "         1.22377481e-02, -3.97985689e-02, -1.07580192e-01,  1.87428445e-02,\n",
       "        -5.61585054e-02,  3.28187980e-02,  2.12309845e-02,  4.02530394e-02,\n",
       "        -4.09181044e-02, -5.40701635e-02, -3.18830311e-02, -7.56302103e-02,\n",
       "        -4.66653369e-02,  1.48602091e-02, -1.07344100e-02,  2.07525752e-02,\n",
       "         1.34317847e-02, -8.23552683e-02,  5.78986816e-02,  1.76201146e-02,\n",
       "        -8.50203447e-03, -1.53386882e-02, -1.04100503e-01, -1.57667007e-02,\n",
       "         5.46987168e-02,  3.74048315e-02, -1.17904678e-01,  2.03119125e-02,\n",
       "        -7.68981874e-02,  3.44228968e-02, -4.52910401e-02,  4.75440025e-02,\n",
       "        -4.77724883e-04, -4.11234088e-02,  4.71504033e-03, -3.46129425e-02,\n",
       "         3.37162316e-02, -7.28191659e-02,  1.31505681e-02,  4.28216793e-02,\n",
       "         3.50715369e-02, -1.06005572e-01, -3.98712866e-02, -5.47358533e-03,\n",
       "        -1.49151888e-02,  1.02465115e-02, -1.02672284e-03, -3.66658494e-02,\n",
       "         1.73390701e-01, -2.27445271e-02, -7.67452344e-02, -8.13794956e-02,\n",
       "         2.16125022e-03, -7.99843669e-02,  3.03207431e-03,  3.81594300e-02,\n",
       "        -1.05603665e-01,  5.63725829e-02, -1.25026423e-02,  5.77688888e-02,\n",
       "         2.78331526e-02, -6.53240830e-03, -6.71610087e-02, -6.09531440e-03,\n",
       "        -1.21234991e-02,  4.34891433e-02,  1.88949257e-02, -1.02657907e-01,\n",
       "        -6.40947595e-02, -6.58821464e-02, -1.82686709e-02, -5.10085002e-03,\n",
       "         1.88896935e-02, -8.08802992e-03,  3.85293439e-02, -3.30882929e-02,\n",
       "        -5.80632240e-02, -2.53372248e-02, -1.26110585e-02, -5.01138419e-02,\n",
       "        -9.30153653e-02, -6.16377480e-02,  5.77118583e-02, -3.58621404e-02,\n",
       "         2.98365895e-02, -3.88483144e-02,  2.40053385e-02,  3.87210287e-02,\n",
       "        -5.29912449e-02,  1.42196724e-02, -9.42162275e-02,  3.14448401e-02],\n",
       "       dtype=float32),\n",
       " array([[-0.115583  ],\n",
       "        [-0.22152613],\n",
       "        [-0.33030084],\n",
       "        [-0.21409622],\n",
       "        [-0.40584713],\n",
       "        [ 0.14981546],\n",
       "        [-0.10235838],\n",
       "        [-0.25732404],\n",
       "        [ 0.03773454],\n",
       "        [-0.34450135],\n",
       "        [-0.10818893],\n",
       "        [ 0.28297448],\n",
       "        [-0.12102956],\n",
       "        [-0.32572138],\n",
       "        [-0.1469729 ],\n",
       "        [ 0.21137673],\n",
       "        [-0.11883529],\n",
       "        [ 0.32498384],\n",
       "        [ 0.22851571],\n",
       "        [-0.05004543],\n",
       "        [ 0.10372376],\n",
       "        [-0.03871046],\n",
       "        [ 0.099096  ],\n",
       "        [ 0.32790166],\n",
       "        [ 0.45732737],\n",
       "        [ 0.07944131],\n",
       "        [-0.06762943],\n",
       "        [ 0.21687509],\n",
       "        [ 0.32478327],\n",
       "        [-0.2770954 ],\n",
       "        [-0.02683453],\n",
       "        [-0.1342078 ],\n",
       "        [-0.34128338],\n",
       "        [-0.06818434],\n",
       "        [-0.30785084],\n",
       "        [ 0.11986277],\n",
       "        [-0.06971731],\n",
       "        [-0.45692384],\n",
       "        [-0.16906586],\n",
       "        [-0.07078919],\n",
       "        [-0.09963162],\n",
       "        [ 0.04938915],\n",
       "        [ 0.03296231],\n",
       "        [ 0.19662216],\n",
       "        [-0.08363934],\n",
       "        [-0.15447284],\n",
       "        [ 0.01158689],\n",
       "        [-0.20520496],\n",
       "        [-0.2908017 ],\n",
       "        [ 0.2519156 ],\n",
       "        [-0.06224973],\n",
       "        [-0.2042408 ],\n",
       "        [ 0.13897438],\n",
       "        [-0.07351474],\n",
       "        [-0.15475376],\n",
       "        [ 0.09427323],\n",
       "        [-0.03271612],\n",
       "        [-0.02453183],\n",
       "        [-0.19165851],\n",
       "        [ 0.2759587 ],\n",
       "        [ 0.27939638],\n",
       "        [ 0.34257782],\n",
       "        [-0.2715775 ],\n",
       "        [-0.12866026],\n",
       "        [-0.22289142],\n",
       "        [-0.12271117],\n",
       "        [ 0.07608449],\n",
       "        [-0.11271445],\n",
       "        [-0.10449839],\n",
       "        [-0.07760064],\n",
       "        [-0.18753892],\n",
       "        [-0.35058764],\n",
       "        [ 0.15769796],\n",
       "        [-0.16401736],\n",
       "        [-0.06946392],\n",
       "        [ 0.2068764 ],\n",
       "        [-0.0867924 ],\n",
       "        [-0.10870694],\n",
       "        [ 0.08621226],\n",
       "        [-0.02202888],\n",
       "        [-0.4199733 ],\n",
       "        [ 0.13174595],\n",
       "        [-0.30820274],\n",
       "        [-0.15921682],\n",
       "        [ 0.19323106],\n",
       "        [-0.53651553],\n",
       "        [-0.13643269],\n",
       "        [-0.12162929],\n",
       "        [ 0.12065341],\n",
       "        [ 0.13589263],\n",
       "        [-0.21879257],\n",
       "        [-0.10859169],\n",
       "        [ 0.04044475],\n",
       "        [-0.1642592 ],\n",
       "        [ 0.36893842],\n",
       "        [-0.16870026],\n",
       "        [ 0.28943324],\n",
       "        [-0.15440306],\n",
       "        [ 0.0384761 ],\n",
       "        [-0.13545044],\n",
       "        [ 0.12041675],\n",
       "        [-0.17337887],\n",
       "        [ 0.35600135],\n",
       "        [-0.13632856],\n",
       "        [-0.18229519],\n",
       "        [-0.14150436],\n",
       "        [-0.14089234],\n",
       "        [-0.17856207],\n",
       "        [-0.24566157],\n",
       "        [ 0.44887567],\n",
       "        [ 0.04737729],\n",
       "        [ 0.17101495],\n",
       "        [-0.16857868],\n",
       "        [-0.25664127],\n",
       "        [ 0.18076673],\n",
       "        [-0.24808486],\n",
       "        [-0.4837531 ],\n",
       "        [ 0.168513  ],\n",
       "        [ 0.14881085],\n",
       "        [ 0.02324304],\n",
       "        [ 0.00641996],\n",
       "        [ 0.09011579],\n",
       "        [ 0.07463074],\n",
       "        [ 0.14183874],\n",
       "        [-0.20165998],\n",
       "        [ 0.12519203],\n",
       "        [ 0.06378081],\n",
       "        [ 0.11723699]], dtype=float32),\n",
       " array([-0.5604593], dtype=float32)]"
      ]
     },
     "execution_count": 33,
     "metadata": {},
     "output_type": "execute_result"
    }
   ],
   "source": [
    "model.get_weights()"
   ]
  },
  {
   "cell_type": "code",
   "execution_count": 34,
   "id": "068a6236",
   "metadata": {},
   "outputs": [],
   "source": [
    "## Helper Function to Decode Reviews\n",
    "def decode_review(encoded_review):\n",
    "    return ' '.join([reversed_word_index.get(i - 3, '?') for i in encoded_review])\n",
    "\n",
    "# Function to process user input\n",
    "def preprocess_text(text):\n",
    "    words = text.lower().split()\n",
    "    encoded_review = [word_index.get(word, 2) + 3 for word in words]  # 2 is for unknown words\n",
    "    padded_review = sequence.pad_sequences([encoded_review], maxlen=500)\n",
    "    return padded_review"
   ]
  },
  {
   "cell_type": "code",
   "execution_count": 35,
   "id": "92328a34",
   "metadata": {},
   "outputs": [],
   "source": [
    "# prediction function\n",
    "def predict_sentiment(review):\n",
    "    processed_review = preprocess_text(review)\n",
    "    prediction = model.predict(processed_review)\n",
    "    sentiment = \"Positive\" if prediction[0][0] > 0.5 else \"Negative\"\n",
    "    return sentiment, prediction[0][0]"
   ]
  },
  {
   "cell_type": "code",
   "execution_count": 38,
   "id": "0a9fdbe8",
   "metadata": {},
   "outputs": [
    {
     "name": "stdout",
     "output_type": "stream",
     "text": [
      "\u001b[1m1/1\u001b[0m \u001b[32m━━━━━━━━━━━━━━━━━━━━\u001b[0m\u001b[37m\u001b[0m \u001b[1m0s\u001b[0m 29ms/step\n",
      "Review: it was a fantastic movie with a thrilling plot and great characters\n",
      "Predicted Sentiment: Positive (Confidence: 0.8930)\n"
     ]
    }
   ],
   "source": [
    "example_review = \"it was a fantastic movie with a thrilling plot and great characters\"\n",
    "sentiment, confidence = predict_sentiment(example_review)\n",
    "\n",
    "print(f\"Review: {example_review}\")\n",
    "print(f\"Predicted Sentiment: {sentiment} (Confidence: {confidence:.4f})\")"
   ]
  },
  {
   "cell_type": "code",
   "execution_count": null,
   "id": "0ed9e992",
   "metadata": {},
   "outputs": [],
   "source": []
  },
  {
   "cell_type": "code",
   "execution_count": null,
   "id": "b4c66761",
   "metadata": {},
   "outputs": [],
   "source": []
  }
 ],
 "metadata": {
  "kernelspec": {
   "display_name": "Python 3",
   "language": "python",
   "name": "python3"
  },
  "language_info": {
   "codemirror_mode": {
    "name": "ipython",
    "version": 3
   },
   "file_extension": ".py",
   "mimetype": "text/x-python",
   "name": "python",
   "nbconvert_exporter": "python",
   "pygments_lexer": "ipython3",
   "version": "3.10.10"
  }
 },
 "nbformat": 4,
 "nbformat_minor": 5
}
